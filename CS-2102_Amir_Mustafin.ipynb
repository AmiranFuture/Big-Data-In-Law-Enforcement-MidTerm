{
 "cells": [
  {
   "cell_type": "markdown",
   "id": "ef50d8a1",
   "metadata": {},
   "source": [
    "# Big Data in Law Enforcement"
   ]
  },
  {
   "cell_type": "markdown",
   "id": "61f35c1f",
   "metadata": {},
   "source": [
    "## Introduction"
   ]
  },
  {
   "cell_type": "markdown",
   "id": "49ef414b",
   "metadata": {},
   "source": [
    "Big data is a combination of structured, semistructured and unstructured data collected by organizations."
   ]
  },
  {
   "cell_type": "markdown",
   "id": "72c171be",
   "metadata": {},
   "source": [
    "__Objectives__\n",
    "+ Explore Common Languages\n",
    "+ Explore Common Libraries\n",
    "+ Explore Data Science Tools 2023"
   ]
  },
  {
   "cell_type": "markdown",
   "id": "857f15eb",
   "metadata": {},
   "source": [
    "_Here's commonly used languages for data science:_\n",
    "\n",
    "1. Python\n",
    "2. JavaScript\n",
    "3. MatLab"
   ]
  },
  {
   "cell_type": "markdown",
   "id": "dd5c4ac2",
   "metadata": {},
   "source": [
    "_Some of the commonly used libraries used by Data Scientist:_\n",
    "\n",
    "* Pandas\n",
    "* NumPy\n",
    "* MatplotLib"
   ]
  },
  {
   "cell_type": "markdown",
   "id": "c199990c",
   "metadata": {},
   "source": [
    "|Data Science Tools|\n",
    "|-------------------|\n",
    "|MongoDB|\n",
    "|Apache Spark|\n",
    "|Hadoop|"
   ]
  },
  {
   "cell_type": "markdown",
   "id": "7345fcc9",
   "metadata": {},
   "source": [
    "### Below are a few examples of evaluating arithmetic expressions in Python  "
   ]
  },
  {
   "cell_type": "code",
   "execution_count": 12,
   "id": "6246da32",
   "metadata": {},
   "outputs": [
    {
     "data": {
      "text/plain": [
       "33"
      ]
     },
     "execution_count": 12,
     "metadata": {},
     "output_type": "execute_result"
    }
   ],
   "source": [
    "#this is simple arithmetic expression, firstly it multiply 4 and 6, then add 9 \n",
    "(4*6)+9"
   ]
  },
  {
   "cell_type": "code",
   "execution_count": 1,
   "id": "26771d05",
   "metadata": {},
   "outputs": [
    {
     "data": {
      "text/plain": [
       "32"
      ]
     },
     "execution_count": 1,
     "metadata": {},
     "output_type": "execute_result"
    }
   ],
   "source": [
    "#Here's one more example of expression\n",
    "(23-15)*4"
   ]
  },
  {
   "cell_type": "code",
   "execution_count": 11,
   "id": "e49a9a48",
   "metadata": {},
   "outputs": [
    {
     "data": {
      "text/plain": [
       "5.0"
      ]
     },
     "execution_count": 11,
     "metadata": {},
     "output_type": "execute_result"
    }
   ],
   "source": [
    "#This will convert 300 minutes to hours by dividing 60\n",
    "300/60"
   ]
  },
  {
   "cell_type": "markdown",
   "id": "103ff4d4",
   "metadata": {},
   "source": [
    "## Author\n",
    "Amir Mustafin"
   ]
  }
 ],
 "metadata": {
  "kernelspec": {
   "display_name": "Python 3 (ipykernel)",
   "language": "python",
   "name": "python3"
  },
  "language_info": {
   "codemirror_mode": {
    "name": "ipython",
    "version": 3
   },
   "file_extension": ".py",
   "mimetype": "text/x-python",
   "name": "python",
   "nbconvert_exporter": "python",
   "pygments_lexer": "ipython3",
   "version": "3.9.13"
  }
 },
 "nbformat": 4,
 "nbformat_minor": 5
}
